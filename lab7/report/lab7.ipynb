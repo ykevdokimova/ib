{
 "cells": [
  {
   "cell_type": "code",
   "execution_count": 13,
   "id": "e59473ca",
   "metadata": {},
   "outputs": [
    {
     "name": "stdout",
     "output_type": "stream",
     "text": [
      "\u001aА,\u0000r{~Оs\u0003\u0004qМѬА\u0005~\u0001\u0007Ѭr\u0016\n",
      "лабораторная работа н7\n"
     ]
    }
   ],
   "source": [
    "def gamm(t_text, t_key):\n",
    "    res = ''\n",
    "    for i, j in zip(t_text, t_key):\n",
    "        temp=chr(ord(i) ^ ord(j))\n",
    "        res+=temp\n",
    "    return res\n",
    "\n",
    "P1 = 'С Новым годом, друзья!'\n",
    "P2 = ''\n",
    "Key = 'лабораторная работа н7'\n",
    "\n",
    "P2 = gamm(P1, Key)\n",
    "print(P2)\n",
    "\n",
    "p_result = gamm(P2, P1)\n",
    "print(p_result)"
   ]
  }
 ],
 "metadata": {
  "kernelspec": {
   "display_name": "Python 3",
   "language": "python",
   "name": "python3"
  },
  "language_info": {
   "codemirror_mode": {
    "name": "ipython",
    "version": 3
   },
   "file_extension": ".py",
   "mimetype": "text/x-python",
   "name": "python",
   "nbconvert_exporter": "python",
   "pygments_lexer": "ipython3",
   "version": "3.8.8"
  }
 },
 "nbformat": 4,
 "nbformat_minor": 5
}
