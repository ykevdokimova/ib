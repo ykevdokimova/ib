{
 "cells": [
  {
   "cell_type": "code",
   "execution_count": 20,
   "id": "9ca6976d",
   "metadata": {},
   "outputs": [
    {
     "name": "stdout",
     "output_type": "stream",
     "text": [
      "ѐWѸьцвщIќюѕэјJGќЪШћжзB ъчєьдщзїЯэёмDЦїљєЩќZхT \n",
      "\n",
      "- -овы- го-о-, -руз-я!\n",
      "-а-ора-орн-я-ра-ота-н7\n"
     ]
    }
   ],
   "source": [
    "def gamm(t_text, t_key):\n",
    "    res = ''\n",
    "    for i, j in zip(t_text, t_key):\n",
    "        if i == '-':\n",
    "            temp='-'\n",
    "        else:\n",
    "            temp = chr(ord(i) ^ ord(j))\n",
    "        res += temp\n",
    "    return res\n",
    "\n",
    "P1 = 'С Новым годом, друзья!'\n",
    "P2 = 'лабораторная работа н7'\n",
    "Key = 'qwertyuiopasdfghjklzxc'\n",
    "\n",
    "C1 = gamm(P1, Key)\n",
    "C2 = gamm(P2, Key)\n",
    "print(C1, C2, '\\n')\n",
    "\n",
    "t_P1 = '- -овы- го-о-, -руз-я!'\n",
    "t_C = gamm(C1, C2)\n",
    "t_P2 = gamm(t_P1, t_C)\n",
    "print(t_P1)\n",
    "print(t_P2)"
   ]
  }
 ],
 "metadata": {
  "kernelspec": {
   "display_name": "Python 3",
   "language": "python",
   "name": "python3"
  },
  "language_info": {
   "codemirror_mode": {
    "name": "ipython",
    "version": 3
   },
   "file_extension": ".py",
   "mimetype": "text/x-python",
   "name": "python",
   "nbconvert_exporter": "python",
   "pygments_lexer": "ipython3",
   "version": "3.8.8"
  }
 },
 "nbformat": 4,
 "nbformat_minor": 5
}
